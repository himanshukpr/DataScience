{
 "cells": [
  {
   "cell_type": "code",
   "execution_count": 3,
   "id": "73bfd0ae-c427-4db7-bcef-2062faf8d5ea",
   "metadata": {},
   "outputs": [],
   "source": [
    "import pandas as pd\n",
    "col = ['day','temperature','windspeed','event']\n",
    "# by using the skiprows i am able to skip the number of rows (starting)\n",
    "# header = None ( means to define that the data don't contains the any header )\n",
    "# names = col ( this will make new column names )\n",
    "# df = pd.read_csv('data.csv',skiprows=1, header=None, names = col)\n",
    "df = pd.read_csv(\"data.csv\",names = col)\n",
    "df.set_index('day',inplace=True)"
   ]
  },
  {
   "cell_type": "code",
   "execution_count": 4,
   "id": "233d3f5a-59ac-4e84-83ad-946023db8b1a",
   "metadata": {},
   "outputs": [
    {
     "data": {
      "text/html": [
       "<div>\n",
       "<style scoped>\n",
       "    .dataframe tbody tr th:only-of-type {\n",
       "        vertical-align: middle;\n",
       "    }\n",
       "\n",
       "    .dataframe tbody tr th {\n",
       "        vertical-align: top;\n",
       "    }\n",
       "\n",
       "    .dataframe thead th {\n",
       "        text-align: right;\n",
       "    }\n",
       "</style>\n",
       "<table border=\"1\" class=\"dataframe\">\n",
       "  <thead>\n",
       "    <tr style=\"text-align: right;\">\n",
       "      <th></th>\n",
       "      <th>temperature</th>\n",
       "      <th>windspeed</th>\n",
       "      <th>event</th>\n",
       "    </tr>\n",
       "    <tr>\n",
       "      <th>day</th>\n",
       "      <th></th>\n",
       "      <th></th>\n",
       "      <th></th>\n",
       "    </tr>\n",
       "  </thead>\n",
       "  <tbody>\n",
       "    <tr>\n",
       "      <th>30-04-2025</th>\n",
       "      <td>24</td>\n",
       "      <td>6</td>\n",
       "      <td>rain</td>\n",
       "    </tr>\n",
       "    <tr>\n",
       "      <th>01-05-2025</th>\n",
       "      <td>54</td>\n",
       "      <td>4</td>\n",
       "      <td>sunny</td>\n",
       "    </tr>\n",
       "    <tr>\n",
       "      <th>02-05-2025</th>\n",
       "      <td>34</td>\n",
       "      <td>6</td>\n",
       "      <td>sunny</td>\n",
       "    </tr>\n",
       "    <tr>\n",
       "      <th>03-05-2025</th>\n",
       "      <td>54</td>\n",
       "      <td>3</td>\n",
       "      <td>rain</td>\n",
       "    </tr>\n",
       "    <tr>\n",
       "      <th>04-05-2025</th>\n",
       "      <td>23</td>\n",
       "      <td>3</td>\n",
       "      <td>rain</td>\n",
       "    </tr>\n",
       "    <tr>\n",
       "      <th>05-05-2025</th>\n",
       "      <td>88</td>\n",
       "      <td>2</td>\n",
       "      <td>sunny</td>\n",
       "    </tr>\n",
       "    <tr>\n",
       "      <th>06-05-2025</th>\n",
       "      <td>23</td>\n",
       "      <td>7</td>\n",
       "      <td>snow</td>\n",
       "    </tr>\n",
       "    <tr>\n",
       "      <th>07-05-2025</th>\n",
       "      <td>12</td>\n",
       "      <td>3</td>\n",
       "      <td>snow</td>\n",
       "    </tr>\n",
       "  </tbody>\n",
       "</table>\n",
       "</div>"
      ],
      "text/plain": [
       "            temperature  windspeed  event\n",
       "day                                      \n",
       "30-04-2025           24          6   rain\n",
       "01-05-2025           54          4  sunny\n",
       "02-05-2025           34          6  sunny\n",
       "03-05-2025           54          3   rain\n",
       "04-05-2025           23          3   rain\n",
       "05-05-2025           88          2  sunny\n",
       "06-05-2025           23          7   snow\n",
       "07-05-2025           12          3   snow"
      ]
     },
     "execution_count": 4,
     "metadata": {},
     "output_type": "execute_result"
    }
   ],
   "source": [
    "df"
   ]
  }
 ],
 "metadata": {
  "kernelspec": {
   "display_name": "Python 3",
   "language": "python",
   "name": "python3"
  },
  "language_info": {
   "codemirror_mode": {
    "name": "ipython",
    "version": 3
   },
   "file_extension": ".py",
   "mimetype": "text/x-python",
   "name": "python",
   "nbconvert_exporter": "python",
   "pygments_lexer": "ipython3",
   "version": "3.10.12"
  }
 },
 "nbformat": 4,
 "nbformat_minor": 5
}
