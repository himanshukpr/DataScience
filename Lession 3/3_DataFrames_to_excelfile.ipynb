{
 "cells": [
  {
   "cell_type": "code",
   "execution_count": 2,
   "id": "68766efa",
   "metadata": {},
   "outputs": [],
   "source": [
    "import pandas as pd\n",
    "\n",
    "\n",
    "df1 = pd.DataFrame({\n",
    "   'col1':[1,2,3,4],\n",
    "   'col2':['a','b','c','d']\n",
    "})\n",
    "\n",
    "df2 = pd.DataFrame({\n",
    "    'col1':[4,5,6,7],\n",
    "    'col2':['a','b','c','d']\n",
    "})\n",
    "\n",
    "\n",
    "with pd.ExcelWriter('Test.xlsx') as writer:\n",
    "    df1.to_excel(writer,sheet_name='Sheet1')\n",
    "    df2.to_excel(writer,sheet_name='Sheet2')"
   ]
  }
 ],
 "metadata": {
  "kernelspec": {
   "display_name": "Python 3",
   "language": "python",
   "name": "python3"
  },
  "language_info": {
   "codemirror_mode": {
    "name": "ipython",
    "version": 3
   },
   "file_extension": ".py",
   "mimetype": "text/x-python",
   "name": "python",
   "nbconvert_exporter": "python",
   "pygments_lexer": "ipython3",
   "version": "3.10.12"
  }
 },
 "nbformat": 4,
 "nbformat_minor": 5
}
