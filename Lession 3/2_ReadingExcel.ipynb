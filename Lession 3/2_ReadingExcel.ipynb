{
 "cells": [
  {
   "cell_type": "code",
   "execution_count": 25,
   "id": "3078d42e",
   "metadata": {},
   "outputs": [],
   "source": [
    "import pandas as pd\n",
    "\n",
    "def convert_ingre(cell):\n",
    "    if (cell == ''):\n",
    "        return '-'\n",
    "    return cell\n",
    "\n",
    "def convert_calories(cell):\n",
    "    if (cell == ''):\n",
    "        return '-'\n",
    "    return cell\n",
    "\n",
    "df=pd.read_excel('../items.xlsx',\"Sheet1\",converters={'Ingredients':convert_ingre,'Calories':convert_calories})\n",
    "df.to_excel('new.xlsx',sheet_name='Items', index=False, header=False, startcol=2,startrow=3)"
   ]
  }
 ],
 "metadata": {
  "kernelspec": {
   "display_name": "Python 3",
   "language": "python",
   "name": "python3"
  },
  "language_info": {
   "codemirror_mode": {
    "name": "ipython",
    "version": 3
   },
   "file_extension": ".py",
   "mimetype": "text/x-python",
   "name": "python",
   "nbconvert_exporter": "python",
   "pygments_lexer": "ipython3",
   "version": "3.10.12"
  }
 },
 "nbformat": 4,
 "nbformat_minor": 5
}
