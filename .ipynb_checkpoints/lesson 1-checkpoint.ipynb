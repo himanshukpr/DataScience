{
 "cells": [
  {
   "cell_type": "code",
   "execution_count": 1,
   "id": "174b55cb-cb25-43ce-b45b-b46b78d60242",
   "metadata": {},
   "outputs": [],
   "source": [
    "import pandas as pd\n",
    "df = pd.read_csv(\"data.csv\")"
   ]
  },
  {
   "cell_type": "code",
   "execution_count": 2,
   "id": "cd529f3c-9ea6-47f1-8734-e366ee227041",
   "metadata": {},
   "outputs": [],
   "source": [
    "# if we have the data inside the python as the dictiory \n",
    "# table_data = {\n",
    "#     \"Name\": [\"Alice\", \"Bob\", \"Charlie\"],\n",
    "#     \"Age\": [25, 30, 35],\n",
    "#     \"Email\": [\"alice@example.com\", \"bob@example.com\", \"charlie@example.com\"]\n",
    "# }\n",
    "# df = pd.DataFrame(table_data)\n",
    "# df"
   ]
  },
  {
   "cell_type": "code",
   "execution_count": 3,
   "id": "c28dea2b-0341-49dc-a61d-b75ea962271e",
   "metadata": {
    "scrolled": true
   },
   "outputs": [],
   "source": [
    "# to get the shape of the data like the no. of rows and columns\n",
    "# rows, col = df.shape\n",
    "# rows"
   ]
  },
  {
   "cell_type": "code",
   "execution_count": 4,
   "id": "4a303b67-b327-478d-bdb0-5d5075a21572",
   "metadata": {
    "scrolled": true
   },
   "outputs": [],
   "source": [
    "# using this we are able to show only few starting values\n",
    "# df.head(2)\n",
    "# using this we are able to show only few ending values\n",
    "# df.tail(2)"
   ]
  },
  {
   "cell_type": "code",
   "execution_count": 5,
   "id": "f5bfffaa-4d73-48f0-a211-c4f597d8f0d4",
   "metadata": {},
   "outputs": [
    {
     "data": {
      "text/html": [
       "<div>\n",
       "<style scoped>\n",
       "    .dataframe tbody tr th:only-of-type {\n",
       "        vertical-align: middle;\n",
       "    }\n",
       "\n",
       "    .dataframe tbody tr th {\n",
       "        vertical-align: top;\n",
       "    }\n",
       "\n",
       "    .dataframe thead th {\n",
       "        text-align: right;\n",
       "    }\n",
       "</style>\n",
       "<table border=\"1\" class=\"dataframe\">\n",
       "  <thead>\n",
       "    <tr style=\"text-align: right;\">\n",
       "      <th></th>\n",
       "      <th>event</th>\n",
       "      <th>day</th>\n",
       "      <th>temperature</th>\n",
       "    </tr>\n",
       "  </thead>\n",
       "  <tbody>\n",
       "    <tr>\n",
       "      <th>0</th>\n",
       "      <td>rain</td>\n",
       "      <td>30-04-2025</td>\n",
       "      <td>24</td>\n",
       "    </tr>\n",
       "    <tr>\n",
       "      <th>1</th>\n",
       "      <td>sunny</td>\n",
       "      <td>01-05-2025</td>\n",
       "      <td>54</td>\n",
       "    </tr>\n",
       "    <tr>\n",
       "      <th>2</th>\n",
       "      <td>sunny</td>\n",
       "      <td>02-05-2025</td>\n",
       "      <td>34</td>\n",
       "    </tr>\n",
       "    <tr>\n",
       "      <th>3</th>\n",
       "      <td>rain</td>\n",
       "      <td>03-05-2025</td>\n",
       "      <td>54</td>\n",
       "    </tr>\n",
       "    <tr>\n",
       "      <th>4</th>\n",
       "      <td>rain</td>\n",
       "      <td>04-05-2025</td>\n",
       "      <td>23</td>\n",
       "    </tr>\n",
       "    <tr>\n",
       "      <th>5</th>\n",
       "      <td>sunny</td>\n",
       "      <td>05-05-2025</td>\n",
       "      <td>88</td>\n",
       "    </tr>\n",
       "    <tr>\n",
       "      <th>6</th>\n",
       "      <td>snow</td>\n",
       "      <td>06-05-2025</td>\n",
       "      <td>23</td>\n",
       "    </tr>\n",
       "    <tr>\n",
       "      <th>7</th>\n",
       "      <td>snow</td>\n",
       "      <td>07-05-2025</td>\n",
       "      <td>12</td>\n",
       "    </tr>\n",
       "  </tbody>\n",
       "</table>\n",
       "</div>"
      ],
      "text/plain": [
       "   event         day  temperature\n",
       "0   rain  30-04-2025           24\n",
       "1  sunny  01-05-2025           54\n",
       "2  sunny  02-05-2025           34\n",
       "3   rain  03-05-2025           54\n",
       "4   rain  04-05-2025           23\n",
       "5  sunny  05-05-2025           88\n",
       "6   snow  06-05-2025           23\n",
       "7   snow  07-05-2025           12"
      ]
     },
     "execution_count": 5,
     "metadata": {},
     "output_type": "execute_result"
    }
   ],
   "source": [
    "# to print the particular records\n",
    "# df[2:5]\n",
    "# to get the particular column\n",
    "# df.event \n",
    "df[['event','day', 'temperature']]\n"
   ]
  },
  {
   "cell_type": "code",
   "execution_count": 6,
   "id": "1543113e-a45c-438d-99e7-4eb2fcf20f6b",
   "metadata": {},
   "outputs": [
    {
     "data": {
      "text/plain": [
       "5    05-05-2025\n",
       "Name: day, dtype: object"
      ]
     },
     "execution_count": 6,
     "metadata": {},
     "output_type": "execute_result"
    }
   ],
   "source": [
    "# df.describe()\n",
    "# df['temperature'].max()\n",
    "# df[df.event == 'rain']\n",
    "df['day'][df.temperature == df.temperature.max()]"
   ]
  },
  {
   "cell_type": "code",
   "execution_count": 7,
   "id": "9679c929-a698-4e8b-a382-e7491ff6ef21",
   "metadata": {},
   "outputs": [
    {
     "data": {
      "text/html": [
       "<div>\n",
       "<style scoped>\n",
       "    .dataframe tbody tr th:only-of-type {\n",
       "        vertical-align: middle;\n",
       "    }\n",
       "\n",
       "    .dataframe tbody tr th {\n",
       "        vertical-align: top;\n",
       "    }\n",
       "\n",
       "    .dataframe thead th {\n",
       "        text-align: right;\n",
       "    }\n",
       "</style>\n",
       "<table border=\"1\" class=\"dataframe\">\n",
       "  <thead>\n",
       "    <tr style=\"text-align: right;\">\n",
       "      <th></th>\n",
       "      <th>temperature</th>\n",
       "      <th>windspeed</th>\n",
       "      <th>event</th>\n",
       "    </tr>\n",
       "    <tr>\n",
       "      <th>day</th>\n",
       "      <th></th>\n",
       "      <th></th>\n",
       "      <th></th>\n",
       "    </tr>\n",
       "  </thead>\n",
       "  <tbody>\n",
       "    <tr>\n",
       "      <th>30-04-2025</th>\n",
       "      <td>24</td>\n",
       "      <td>6</td>\n",
       "      <td>rain</td>\n",
       "    </tr>\n",
       "    <tr>\n",
       "      <th>01-05-2025</th>\n",
       "      <td>54</td>\n",
       "      <td>4</td>\n",
       "      <td>sunny</td>\n",
       "    </tr>\n",
       "    <tr>\n",
       "      <th>02-05-2025</th>\n",
       "      <td>34</td>\n",
       "      <td>6</td>\n",
       "      <td>sunny</td>\n",
       "    </tr>\n",
       "    <tr>\n",
       "      <th>03-05-2025</th>\n",
       "      <td>54</td>\n",
       "      <td>3</td>\n",
       "      <td>rain</td>\n",
       "    </tr>\n",
       "    <tr>\n",
       "      <th>04-05-2025</th>\n",
       "      <td>23</td>\n",
       "      <td>3</td>\n",
       "      <td>rain</td>\n",
       "    </tr>\n",
       "    <tr>\n",
       "      <th>05-05-2025</th>\n",
       "      <td>88</td>\n",
       "      <td>2</td>\n",
       "      <td>sunny</td>\n",
       "    </tr>\n",
       "    <tr>\n",
       "      <th>06-05-2025</th>\n",
       "      <td>23</td>\n",
       "      <td>7</td>\n",
       "      <td>snow</td>\n",
       "    </tr>\n",
       "    <tr>\n",
       "      <th>07-05-2025</th>\n",
       "      <td>12</td>\n",
       "      <td>3</td>\n",
       "      <td>snow</td>\n",
       "    </tr>\n",
       "  </tbody>\n",
       "</table>\n",
       "</div>"
      ],
      "text/plain": [
       "            temperature  windspeed  event\n",
       "day                                      \n",
       "30-04-2025           24          6   rain\n",
       "01-05-2025           54          4  sunny\n",
       "02-05-2025           34          6  sunny\n",
       "03-05-2025           54          3   rain\n",
       "04-05-2025           23          3   rain\n",
       "05-05-2025           88          2  sunny\n",
       "06-05-2025           23          7   snow\n",
       "07-05-2025           12          3   snow"
      ]
     },
     "execution_count": 7,
     "metadata": {},
     "output_type": "execute_result"
    }
   ],
   "source": [
    "df.set_index('day', inplace = True)\n",
    "df"
   ]
  },
  {
   "cell_type": "code",
   "execution_count": 13,
   "id": "9b086b6c-f68a-48bf-a554-786d3e626766",
   "metadata": {},
   "outputs": [
    {
     "data": {
      "text/plain": [
       "temperature       88\n",
       "windspeed          2\n",
       "event          sunny\n",
       "Name: 05-05-2025, dtype: object"
      ]
     },
     "execution_count": 13,
     "metadata": {},
     "output_type": "execute_result"
    }
   ],
   "source": [
    "# df.loc['04-05-2025']\n",
    "# df.loc[df.temperature == df.temperature.max()]\n",
    "df.loc['05-05-2025']"
   ]
  }
 ],
 "metadata": {
  "kernelspec": {
   "display_name": "Python 3 (ipykernel)",
   "language": "python",
   "name": "python3"
  },
  "language_info": {
   "codemirror_mode": {
    "name": "ipython",
    "version": 3
   },
   "file_extension": ".py",
   "mimetype": "text/x-python",
   "name": "python",
   "nbconvert_exporter": "python",
   "pygments_lexer": "ipython3",
   "version": "3.13.3"
  }
 },
 "nbformat": 4,
 "nbformat_minor": 5
}
